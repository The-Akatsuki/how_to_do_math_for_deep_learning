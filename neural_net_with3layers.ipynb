{
 "cells": [
  {
   "cell_type": "code",
   "execution_count": 2,
   "metadata": {
    "collapsed": true
   },
   "outputs": [],
   "source": [
    "import numpy as np\n"
   ]
  },
  {
   "cell_type": "code",
   "execution_count": 3,
   "metadata": {
    "collapsed": false
   },
   "outputs": [],
   "source": [
    "# Step 1 Collect Data\n",
    "x = np.array([[0,0,1],\n",
    "            [0,1,1],\n",
    "            [1,0,1],\n",
    "            [1,1,1]])\n",
    "                \n",
    "y = np.array([[0],\n",
    "            [1],\n",
    "            [1],\n",
    "            [0]])\n"
   ]
  },
  {
   "cell_type": "code",
   "execution_count": 3,
   "metadata": {
    "collapsed": false
   },
   "outputs": [
    {
     "name": "stdout",
     "output_type": "stream",
     "text": [
      "[[0 0 1]\n",
      " [0 1 1]\n",
      " [1 0 1]\n",
      " [1 1 1]]\n"
     ]
    }
   ],
   "source": [
    "#print x"
   ]
  },
  {
   "cell_type": "code",
   "execution_count": 4,
   "metadata": {
    "collapsed": false
   },
   "outputs": [
    {
     "name": "stdout",
     "output_type": "stream",
     "text": [
      "[[0]\n",
      " [1]\n",
      " [1]\n",
      " [0]]\n"
     ]
    }
   ],
   "source": [
    "#print y "
   ]
  },
  {
   "cell_type": "code",
   "execution_count": 7,
   "metadata": {
    "collapsed": true
   },
   "outputs": [],
   "source": [
    "#Step 2 build model\n",
    "\n",
    "num_epochs = 60000\n",
    "\n",
    "#initialize weights\n",
    "syn0 = 2*np.random.random((3,4)) - 1\n",
    "syn1 = 2*np.random.random((4,1)) - 1"
   ]
  },
  {
   "cell_type": "code",
   "execution_count": 6,
   "metadata": {
    "collapsed": false
   },
   "outputs": [
    {
     "name": "stdout",
     "output_type": "stream",
     "text": [
      "[[-0.00896954  0.63051633  0.97238696  0.2205912 ]\n",
      " [ 0.80236435 -0.88821416  0.71289103  0.52543106]\n",
      " [ 0.27429976 -0.29205953  0.57121292  0.69364235]]\n"
     ]
    }
   ],
   "source": [
    "#print syn0"
   ]
  },
  {
   "cell_type": "code",
   "execution_count": 7,
   "metadata": {
    "collapsed": false
   },
   "outputs": [
    {
     "name": "stdout",
     "output_type": "stream",
     "text": [
      "[[ 0.30339426]\n",
      " [-0.45778467]\n",
      " [ 0.09523754]\n",
      " [-0.34639674]]\n"
     ]
    }
   ],
   "source": [
    "#print syn1"
   ]
  },
  {
   "cell_type": "code",
   "execution_count": 5,
   "metadata": {
    "collapsed": true
   },
   "outputs": [],
   "source": [
    "def nonlin(x,deriv=False):\n",
    "    if(deriv==True):\n",
    "        return x*(1-x)\n",
    "\n",
    "    return 1/(1+np.exp(-x))"
   ]
  },
  {
   "cell_type": "code",
   "execution_count": 8,
   "metadata": {
    "collapsed": false
   },
   "outputs": [
    {
     "name": "stdout",
     "output_type": "stream",
     "text": [
      "Error:0.496016430021\n",
      "output:[[ 0.44474967]\n",
      " [ 0.48246255]\n",
      " [ 0.37089006]\n",
      " [ 0.39266866]]\n",
      "actual out:[[0]\n",
      " [1]\n",
      " [1]\n",
      " [0]]\n",
      "Error:0.00836997876717\n",
      "output:[[ 0.00878384]\n",
      " [ 0.99134682]\n",
      " [ 0.99143247]\n",
      " [ 0.00747537]]\n",
      "actual out:[[0]\n",
      " [1]\n",
      " [1]\n",
      " [0]]\n",
      "Error:0.0057386598609\n",
      "output:[[ 0.00602576]\n",
      " [ 0.99406575]\n",
      " [ 0.9941526 ]\n",
      " [ 0.00514723]]\n",
      "actual out:[[0]\n",
      " [1]\n",
      " [1]\n",
      " [0]]\n",
      "Error:0.00462199541832\n",
      "output:[[ 0.00485537]\n",
      " [ 0.99522133]\n",
      " [ 0.99530045]\n",
      " [ 0.00415439]]\n",
      "actual out:[[0]\n",
      " [1]\n",
      " [1]\n",
      " [0]]\n",
      "Error:0.00396962751925\n",
      "output:[[ 0.00417149]\n",
      " [ 0.99589675]\n",
      " [ 0.9959691 ]\n",
      " [ 0.00357288]]\n",
      "actual out:[[0]\n",
      " [1]\n",
      " [1]\n",
      " [0]]\n",
      "Error:0.00352998519336\n",
      "output:[[ 0.00371051]\n",
      " [ 0.99635201]\n",
      " [ 0.99641888]\n",
      " [ 0.00318031]]\n",
      "actual out:[[0]\n",
      " [1]\n",
      " [1]\n",
      " [0]]\n"
     ]
    }
   ],
   "source": [
    "#Step 3 Train Model\n",
    "\n",
    "for j in xrange(num_epochs):\n",
    "    #feed forward through layers 0,1, and 2\n",
    "    k0 = x\n",
    "    k1 = nonlin(np.dot(k0, syn0))\n",
    "    #print \"k1 and weight multiplication \"\n",
    "    #print k0, syn0\n",
    "    #print \"input layer  k \"\n",
    "    #print k1\n",
    "    k2 = nonlin(np.dot(k1, syn1))\n",
    "    #print \"syn1\"\n",
    "    #print syn1\n",
    "    #print \"input layer k2\"\n",
    "    #print k2\n",
    "    #how much did we miss the target value?\n",
    "    k2_error = y - k2\n",
    "    \n",
    "    #print \"actual output\"\n",
    "    #print y\n",
    "    #print \"code output\"\n",
    "    #print k2\n",
    "    #print \"error in praposgation \"\n",
    "    #print k2_error   \n",
    "    \n",
    "    if (j% 10000) == 0:\n",
    "        print \"Error:\" + str(np.mean(np.abs(k2_error)))\n",
    "        print \"output:\" +str(k2)\n",
    "        print \"actual out:\"+str(y)\n",
    "    #in what direction is the target value?\n",
    "    k2_delta = k2_error*nonlin(k2, deriv=True)\n",
    "    #print \"k2_delta in error field\"\n",
    "    #print k2\n",
    "    #print \"dervatinve of k2\"\n",
    "    #print nonlin(k2, deriv=True)\n",
    "    #print \"k2 delta is k2.deriavtiver of k2\"\n",
    "    #print k2_delta    \n",
    "    #how much did each k1 value contribute to k2 error\n",
    "    k1_error = k2_delta.dot(syn1.T)\n",
    "    #print \"k1_error\"\n",
    "    #print k1    \n",
    "    k1_delta= k1_error * nonlin(k1,deriv=True)    \n",
    "    syn1 =syn1+ k1.T.dot(k2_delta)\n",
    "    syn0 =syn0+ k0.T.dot(k1_delta)\n",
    "    "
   ]
  },
  {
   "cell_type": "code",
   "execution_count": null,
   "metadata": {
    "collapsed": true
   },
   "outputs": [],
   "source": []
  },
  {
   "cell_type": "code",
   "execution_count": null,
   "metadata": {
    "collapsed": true
   },
   "outputs": [],
   "source": []
  }
 ],
 "metadata": {
  "kernelspec": {
   "display_name": "Python 2",
   "language": "python",
   "name": "python2"
  },
  "language_info": {
   "codemirror_mode": {
    "name": "ipython",
    "version": 2
   },
   "file_extension": ".py",
   "mimetype": "text/x-python",
   "name": "python",
   "nbconvert_exporter": "python",
   "pygments_lexer": "ipython2",
   "version": "2.7.12"
  }
 },
 "nbformat": 4,
 "nbformat_minor": 2
}
